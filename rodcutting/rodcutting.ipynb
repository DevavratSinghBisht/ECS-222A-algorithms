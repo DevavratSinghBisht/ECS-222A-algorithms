{
 "cells": [
  {
   "cell_type": "code",
   "execution_count": null,
   "id": "464808c2",
   "metadata": {},
   "outputs": [],
   "source": [
    "def rodcutting(prices):\n",
    "\n",
    "    optimal_cost = {}\n",
    "    optimal_cost[0] = {'price': prices[0],\n",
    "                       'items': [0]}\n",
    "\n",
    "    for i in range(1, len(prices)):\n",
    "        temp_max_value = {'price': -float(\"inf\"),\n",
    "                          'items' : None}\n",
    "        \n",
    "        for j in range(0, i):\n",
    "            temp_value = prices[j] + optimal_cost[i-j-1]['price']\n",
    "            if temp_max_value['price'] < temp_value:\n",
    "                temp_max_value['price'] = temp_value\n",
    "                temp_max_value['items'] = [j, f\"items {i-j-1}\"]\n",
    "\n",
    "        if temp_max_value['price'] < prices[i]:\n",
    "            temp_max_value['price'] = prices[i]\n",
    "            temp_max_value['items'] = [i]\n",
    "\n",
    "        optimal_cost[i] = temp_max_value\n",
    "\n",
    "    return optimal_cost"
   ]
  },
  {
   "cell_type": "code",
   "execution_count": 28,
   "id": "799c54e9",
   "metadata": {},
   "outputs": [
    {
     "data": {
      "text/plain": [
       "{0: {'price': 1, 'items': [0]},\n",
       " 1: {'price': 5, 'items': [1]},\n",
       " 2: {'price': 8, 'items': [2]},\n",
       " 3: {'price': 10, 'items': [1, 'items 1']},\n",
       " 4: {'price': 13, 'items': [1, 'items 2']},\n",
       " 5: {'price': 17, 'items': [5]},\n",
       " 6: {'price': 18, 'items': [0, 'items 5']},\n",
       " 7: {'price': 22, 'items': [1, 'items 5']}}"
      ]
     },
     "execution_count": 28,
     "metadata": {},
     "output_type": "execute_result"
    }
   ],
   "source": [
    "prices = [1, 5, 8, 9, 10, 17, 17, 20]\n",
    "\n",
    "rodcutting(prices)"
   ]
  },
  {
   "cell_type": "code",
   "execution_count": null,
   "id": "ecbe6753",
   "metadata": {},
   "outputs": [],
   "source": []
  }
 ],
 "metadata": {
  "kernelspec": {
   "display_name": "Python 3",
   "language": "python",
   "name": "python3"
  },
  "language_info": {
   "codemirror_mode": {
    "name": "ipython",
    "version": 3
   },
   "file_extension": ".py",
   "mimetype": "text/x-python",
   "name": "python",
   "nbconvert_exporter": "python",
   "pygments_lexer": "ipython3",
   "version": "3.12.1"
  }
 },
 "nbformat": 4,
 "nbformat_minor": 5
}
