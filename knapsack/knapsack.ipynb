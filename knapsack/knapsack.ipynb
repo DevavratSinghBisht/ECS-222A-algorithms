{
 "cells": [
  {
   "cell_type": "code",
   "execution_count": 84,
   "id": "c2cc5b03",
   "metadata": {},
   "outputs": [],
   "source": [
    "import numpy as np\n",
    "import copy\n",
    "\n",
    "def knapsack(weights, values, capacity):\n",
    "\n",
    "    # knapsack\n",
    "\n",
    "    assert len(weights) == len(values), \"Lenght of values and weights must be same.\"\n",
    "\n",
    "    n = len(weights)\n",
    "\n",
    "    if n == 0:\n",
    "        return 0\n",
    "\n",
    "    val_array = np.zeros((n+1, capacity+1));\n",
    "\n",
    "    for i in range(1, n+1):\n",
    "        for j in range(1, capacity+1):\n",
    "            if weights[i-1] <= j:\n",
    "                val_array[i,j] = max(values[i-1] + val_array[i-1,j-weights[i-1]], val_array[i-1,j])\n",
    "            else:\n",
    "                val_array[i,j] = val_array[i-1,j]\n",
    "\n",
    "    answer = []\n",
    "\n",
    "    # back tracking\n",
    "\n",
    "    def backtrack(i, j, chosen=[]):\n",
    "        \n",
    "        if i==0 and j==0:\n",
    "            answer.append(chosen)\n",
    "\n",
    "        else:\n",
    "\n",
    "            temp_chosen = copy.deepcopy(chosen)\n",
    "\n",
    "            c1 = []\n",
    "            c2 = []\n",
    "\n",
    "            if val_array[i-1, j] == val_array[i, j]:\n",
    "                backtrack(i-1, j, temp_chosen)\n",
    "            \n",
    "            if val_array[i-1, j-weights[i-1]] == val_array[i, j] - values[i-1]:\n",
    "                temp_chosen.append(i)\n",
    "                backtrack(i-1, j-weights[i-1], temp_chosen)\n",
    "\n",
    "    backtrack(n, capacity, [])\n",
    "\n",
    "    # prints\n",
    "    \n",
    "    print(\"Value Array:\\n\", val_array)\n",
    "    print(\"\\nOptimal Values:\", val_array[-1, -1])\n",
    "    print(\"\\nSet of items that can be chosen for optimal value:\", answer)"
   ]
  },
  {
   "cell_type": "code",
   "execution_count": 85,
   "id": "07af4944",
   "metadata": {},
   "outputs": [
    {
     "name": "stdout",
     "output_type": "stream",
     "text": [
      "Value Array:\n",
      " [[  0.   0.   0.   0.   0.   0.   0.   0.]\n",
      " [  0.   0.   0.  50.  50.  50.  50.  50.]\n",
      " [  0.   0.  40.  50.  50.  90.  90.  90.]\n",
      " [  0.   0.  40.  50.  70.  90. 110. 120.]\n",
      " [  0.   0.  40.  50.  70.  90. 110. 120.]\n",
      " [  0.  10.  40.  50.  70.  90. 110. 120.]]\n",
      "\n",
      "Optimal Values: 120.0\n",
      "\n",
      "Set of items that can be chosen for optimal value: [[3, 1], [4, 2], [5, 3, 2]]\n"
     ]
    }
   ],
   "source": [
    "weights = [3, 2, 4, 5, 1]\n",
    "values = [50, 40, 70, 80, 10]\n",
    "capacity = 7\n",
    "knapsack(weights, values, capacity)"
   ]
  },
  {
   "cell_type": "code",
   "execution_count": null,
   "id": "83c98f4f",
   "metadata": {},
   "outputs": [],
   "source": []
  },
  {
   "cell_type": "code",
   "execution_count": null,
   "id": "61328fc3",
   "metadata": {},
   "outputs": [],
   "source": []
  }
 ],
 "metadata": {
  "kernelspec": {
   "display_name": "Python 3",
   "language": "python",
   "name": "python3"
  },
  "language_info": {
   "codemirror_mode": {
    "name": "ipython",
    "version": 3
   },
   "file_extension": ".py",
   "mimetype": "text/x-python",
   "name": "python",
   "nbconvert_exporter": "python",
   "pygments_lexer": "ipython3",
   "version": "3.12.1"
  }
 },
 "nbformat": 4,
 "nbformat_minor": 5
}
